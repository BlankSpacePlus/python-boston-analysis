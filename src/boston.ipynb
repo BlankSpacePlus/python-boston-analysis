{
 "cells": [
  {
   "cell_type": "code",
   "execution_count": 10,
   "id": "1b319f8f",
   "metadata": {},
   "outputs": [],
   "source": [
    "import numpy as np\n",
    "import pandas as pd\n",
    "import warnings\n",
    "from sklearn.datasets import load_boston\n",
    "from sklearn.decomposition import PCA\n",
    "from sklearn.model_selection import train_test_split\n",
    "from sklearn.preprocessing import StandardScaler"
   ]
  },
  {
   "cell_type": "markdown",
   "id": "e8a53875",
   "metadata": {},
   "source": [
    "# 数据处理"
   ]
  },
  {
   "cell_type": "code",
   "execution_count": 7,
   "id": "a14f2ac6",
   "metadata": {},
   "outputs": [],
   "source": [
    "warnings.filterwarnings(\"ignore\")"
   ]
  },
  {
   "cell_type": "code",
   "execution_count": 8,
   "id": "54020ae9",
   "metadata": {},
   "outputs": [
    {
     "name": "stdout",
     "output_type": "stream",
     "text": [
      "boston数据集数据的形状为： (506, 13)\n",
      "boston数据集标签的形状为： (506,)\n",
      "boston数据集特征名的形状为： (13,)\n"
     ]
    }
   ],
   "source": [
    "boston = load_boston()\n",
    "boston_data = boston['data']\n",
    "boston_target = boston['target']\n",
    "boston_names = boston['feature_names']\n",
    "print('boston数据集数据的形状为：', boston_data.shape)\n",
    "print('boston数据集标签的形状为：', boston_target.shape)\n",
    "print('boston数据集特征名的形状为：', boston_names.shape)"
   ]
  },
  {
   "cell_type": "code",
   "execution_count": 11,
   "id": "9919b21c",
   "metadata": {},
   "outputs": [
    {
     "name": "stdout",
     "output_type": "stream",
     "text": [
      "boston训练集数据的形状为： (404, 13)\n",
      "boston训练集标签的形状为： (404,)\n",
      "boston测试集数据的形状为： (102, 13)\n",
      "boston测试集标签的形状为： (102,)\n"
     ]
    }
   ],
   "source": [
    "boston_data_train, boston_data_test, boston_target_train, boston_target_test = train_test_split(boston_data, boston_target, test_size=0.2, random_state=42)\n",
    "print('boston训练集数据的形状为：', boston_data_train.shape)\n",
    "print('boston训练集标签的形状为：', boston_target_train.shape)\n",
    "print('boston测试集数据的形状为：', boston_data_test.shape)\n",
    "print('boston测试集标签的形状为：', boston_target_test.shape)"
   ]
  },
  {
   "cell_type": "code",
   "execution_count": 12,
   "id": "96dec3d9",
   "metadata": {},
   "outputs": [
    {
     "name": "stdout",
     "output_type": "stream",
     "text": [
      "boston标准差标准化后训练集数据的方差为： 1.0\n",
      "boston标准差标准化后训练集数据的均值为： 1.3637225393110834e-15\n",
      "boston标准差标准化后测试集数据的方差为： 0.9474773930196593\n",
      "boston标准差标准化后测试集数据的均值为： 0.030537934487192598\n"
     ]
    }
   ],
   "source": [
    "# 生成规则\n",
    "stdScale = StandardScaler().fit(boston_data_train)\n",
    "# 将规则应用于训练集\n",
    "boston_trainScaler = stdScale.transform(boston_data_train) \n",
    "# 将规则应用于测试集\n",
    "boston_testScaler = stdScale.transform(boston_data_test)\n",
    "print('boston标准差标准化后训练集数据的方差为：', np.var(boston_trainScaler))\n",
    "print('boston标准差标准化后训练集数据的均值为：', np.mean(boston_trainScaler))\n",
    "print('boston标准差标准化后测试集数据的方差为：', np.var(boston_testScaler))\n",
    "print('boston标准差标准化后测试集数据的均值为：', np.mean(boston_testScaler))"
   ]
  },
  {
   "cell_type": "code",
   "execution_count": 13,
   "id": "5e56fe3e",
   "metadata": {},
   "outputs": [
    {
     "name": "stdout",
     "output_type": "stream",
     "text": [
      "降维后boston数据集数据测试集的形状为： (404, 5)\n",
      "降维后boston数据集数据训练集的形状为： (102, 5)\n"
     ]
    }
   ],
   "source": [
    "# 生成规则\n",
    "pca = PCA(n_components=5).fit(boston_trainScaler)\n",
    "# 将规则应用于训练集\n",
    "boston_trainPca = pca.transform(boston_trainScaler) \n",
    "# 将规则应用于测试集\n",
    "boston_testPca = pca.transform(boston_testScaler)\n",
    "print('降维后boston数据集数据测试集的形状为：', boston_trainPca.shape)\n",
    "print('降维后boston数据集数据训练集的形状为：', boston_testPca.shape)"
   ]
  },
  {
   "cell_type": "code",
   "execution_count": null,
   "id": "57cd1afa",
   "metadata": {},
   "outputs": [],
   "source": []
  }
 ],
 "metadata": {
  "kernelspec": {
   "display_name": "Python 3 (ipykernel)",
   "language": "python",
   "name": "python3"
  },
  "language_info": {
   "codemirror_mode": {
    "name": "ipython",
    "version": 3
   },
   "file_extension": ".py",
   "mimetype": "text/x-python",
   "name": "python",
   "nbconvert_exporter": "python",
   "pygments_lexer": "ipython3",
   "version": "3.7.0"
  }
 },
 "nbformat": 4,
 "nbformat_minor": 5
}
